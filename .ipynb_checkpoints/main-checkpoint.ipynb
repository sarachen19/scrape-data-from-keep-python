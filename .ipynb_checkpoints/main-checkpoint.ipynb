{
 "cells": [
  {
   "cell_type": "code",
   "execution_count": null,
   "metadata": {},
   "outputs": [],
   "source": [
    "courseNo = \"course1\""
   ]
  },
  {
   "cell_type": "code",
   "execution_count": null,
   "metadata": {},
   "outputs": [],
   "source": [
    "from lxml import html\n",
    "import requests\n",
    "page = requests.get('https://www.gotokeep.com/plans/563b33a9bab30bf333565dc5')\n",
    "tree = html.fromstring(page.content)"
   ]
  },
  {
   "cell_type": "code",
   "execution_count": null,
   "metadata": {
    "scrolled": false
   },
   "outputs": [],
   "source": [
    "from googletrans import Translator\n",
    "from lxml import etree, html\n",
    "import requests\n",
    "\n",
    "page = requests.get('https://www.gotokeep.com/plans/563b33a9bab30bf333565dc5')\n",
    "tree = html.fromstring(page.content)\n",
    "exercises = {}\n",
    "exercise_hrefs = tree.xpath('/html/body/div[2]/div[1]/div[2]/div[2]/div/a/@href')\n",
    "for i in range(len(exercise_hrefs)):\n",
    "    print (\"begin fetching \" + str(i))\n",
    "    page = requests.get('https://www.gotokeep.com' + exercise_hrefs[i])\n",
    "    tree = html.fromstring(page.content)\n",
    "    #begin fetch data\n",
    "    image = tree.xpath('/html/body/div[2]/div/div[2]/div/@style')[0][22:-2] \n",
    "    name = tree.xpath('/html/body/div[2]/div/div[3]/h2/text()')[0] \n",
    "    steps = tree.xpath('//ul[1]/li/text()')\n",
    "    breathes = tree.xpath('//ul[2]/li/text()')\n",
    "    movementfeelings = tree.xpath('//ul[3]/li/text()')\n",
    "    movementfeelingPics = tree.xpath('//p/img/@src')\n",
    "    commonmistakes = tree.xpath('//ul[4]/li/text()')\n",
    "    video = tree.xpath('//div[@class=\"video-wrapper square-wrapper\"]/@data-src')[0]\n",
    "    #add data into exercise\n",
    "    exercise = {\"image\" : image, \"name\" : name, \"steps\" : steps\n",
    "              , \"breathes\" : breathes, \"movementfeelings\" : movementfeelings\n",
    "             , \"movementfeelingPics\" : movementfeelingPics, \"commonmistakes\" : commonmistakes\n",
    "             , \"video\" : video}\n",
    "    #add exercise into exercises\n",
    "    exercises[i] = exercise\n",
    "#print(exercises)\n",
    "\n"
   ]
  },
  {
   "cell_type": "code",
   "execution_count": null,
   "metadata": {},
   "outputs": [],
   "source": [
    "#download all videos to local\n",
    "import urllib.request\n",
    "\n",
    "for index in range(len(exercises)):\n",
    "    video = exercises[index][\"video\"]\n",
    "    image = exercises[index][\"image\"]\n",
    "    path1 = \"./videos/\" + str(index) + \".mp4\"\n",
    "    path2 = \"./images/\" + str(index) + \".png\"\n",
    "    urllib.request.urlretrieve(video,path1)\n",
    "    urllib.request.urlretrieve(image,path2)"
   ]
  },
  {
   "cell_type": "markdown",
   "metadata": {},
   "source": [
    "# test google cloud connection and upload data"
   ]
  },
  {
   "cell_type": "code",
   "execution_count": null,
   "metadata": {},
   "outputs": [],
   "source": [
    "from google.cloud import storage\n",
    "\n",
    "def upload_blob(bucket_name, source_file_name, destination_blob_name):\n",
    "    \"\"\"Uploads a file to the bucket.\"\"\"\n",
    "    # bucket_name = \"your-bucket-name\"\n",
    "    # source_file_name = \"local/path/to/file\"\n",
    "    # destination_blob_name = \"storage-object-name\"\n",
    "    storage_client = storage.Client()\n",
    "    bucket = storage_client.bucket(bucket_name)\n",
    "    blob = bucket.blob(destination_blob_name)\n",
    "    blob.upload_from_filename(source_file_name)\n",
    "    print(\n",
    "        \"File {} uploaded to {}.\".format(\n",
    "            source_file_name, destination_blob_name\n",
    "        )\n",
    "    )\n",
    "    "
   ]
  },
  {
   "cell_type": "code",
   "execution_count": null,
   "metadata": {},
   "outputs": [],
   "source": [
    "from google.cloud import storage\n",
    "import os\n",
    "#set environment variavle for authentification\n",
    "os.environ[\"GOOGLE_APPLICATION_CREDENTIALS\"]=\"/Users/cxr72/Documents/Python Scripts/Quickstart-03dd286a74fc.json\"\n",
    "\n",
    "storage_client = storage.Client()\n",
    "buckets = list(storage_client.list_buckets())\n",
    "print(buckets)\n",
    "\n",
    "for i in range(len(exercises)):\n",
    "    videoPath = \"./videos/\" + str(i) + \".mp4\"\n",
    "    videoBlobName = courseNo + \"/videos/\" + str(i) + \".mp4\"\n",
    "    imagePath = \"./images/\" + str(i) + \".png\"\n",
    "    imageBlobName = courseNo + \"/images/\" + str(i) + \".png\"\n",
    "    upload_blob(\"quickstart-1592333099507.appspot.com\",videoPath, videoBlobName)\n",
    "    upload_blob(\"quickstart-1592333099507.appspot.com\",imagePath, imageBlobName)"
   ]
  },
  {
   "cell_type": "markdown",
   "metadata": {},
   "source": [
    "# update exercises using url from cloud and export as json"
   ]
  },
  {
   "cell_type": "code",
   "execution_count": null,
   "metadata": {},
   "outputs": [],
   "source": [
    "for i in range(len(exercises)):\n",
    "    exercises[i][\"video\"] = \"gs://quickstart-1592333099507.appspot.com/\" + courseNo + \"/videos/\" + str(i) + \".mp4\"\n",
    "    exercises[i][\"image\"] = \"gs://quickstart-1592333099507.appspot.com/\" + courseNo + \"/images/\" + str(i) + \".png\"\n",
    "import pandas as pd\n",
    "exercisesDF = pd.DataFrame.from_dict(exercises)\n",
    "print(exercisesDF)\n"
   ]
  },
  {
   "cell_type": "code",
   "execution_count": null,
   "metadata": {},
   "outputs": [],
   "source": []
  }
 ],
 "metadata": {
  "kernelspec": {
   "display_name": "Python 3",
   "language": "python",
   "name": "python3"
  },
  "language_info": {
   "codemirror_mode": {
    "name": "ipython",
    "version": 3
   },
   "file_extension": ".py",
   "mimetype": "text/x-python",
   "name": "python",
   "nbconvert_exporter": "python",
   "pygments_lexer": "ipython3",
   "version": "3.7.6"
  }
 },
 "nbformat": 4,
 "nbformat_minor": 4
}
