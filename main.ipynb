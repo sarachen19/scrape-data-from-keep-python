{
 "cells": [
  {
   "cell_type": "code",
   "execution_count": 15,
   "metadata": {},
   "outputs": [],
   "source": [
    "from lxml import html\n",
    "import requests\n",
    "page = requests.get('https://www.gotokeep.com/plans/563b33a9bab30bf333565dc5')\n",
    "tree = html.fromstring(page.content)"
   ]
  },
  {
   "cell_type": "code",
   "execution_count": 61,
   "metadata": {
    "scrolled": false
   },
   "outputs": [
    {
     "name": "stdout",
     "output_type": "stream",
     "text": [
      "----------------------------------------------------------------------------\n",
      "https://static1.gotokeep.com/picture/frame/1501126087176.jpg 侧卧左侧提膝\n",
      "----------------------------------------------------------------------------\n",
      "https://static1.gotokeep.com/picture/frame/1501059112008.jpg 侧卧左侧前抬腿\n",
      "----------------------------------------------------------------------------\n",
      "https://static1.gotokeep.com/picture/frame/1501058729039.jpg 侧卧左侧抬腿\n",
      "----------------------------------------------------------------------------\n",
      "https://static1.gotokeep.com/picture/frame/1502977953682.jpg 侧卧左侧后踢腿\n",
      "----------------------------------------------------------------------------\n",
      "https://static1.gotokeep.com/picture/frame/1500953561655.jpg 左腿翘曲两头起\n",
      "----------------------------------------------------------------------------\n",
      "https://static1.gotokeep.com/picture/frame/1500953693344.jpg 右腿翘曲两头起\n",
      "----------------------------------------------------------------------------\n",
      "https://static1.gotokeep.com/picture/frame/1501124447413.jpg 单腿屈腿两头起\n",
      "----------------------------------------------------------------------------\n",
      "https://static1.gotokeep.com/picture/frame/1501124053871.jpg 侧卧右侧提膝\n",
      "----------------------------------------------------------------------------\n",
      "https://static1.gotokeep.com/picture/frame/1501058947550.jpg 侧卧右侧前抬腿\n",
      "----------------------------------------------------------------------------\n",
      "https://static1.gotokeep.com/picture/frame/1501124311467.jpg 侧卧右侧抬腿\n",
      "----------------------------------------------------------------------------\n",
      "https://static1.gotokeep.com/picture/frame/1501060434270.jpg 侧卧右侧后踢腿\n",
      "----------------------------------------------------------------------------\n",
      "https://static1.gotokeep.com/picture/frame/1501207528244.jpg 坐姿扭转右侧臀部拉伸\n",
      "----------------------------------------------------------------------------\n",
      "https://static1.gotokeep.com/picture/frame/1501207648307.jpg 坐姿扭转左侧臀部拉伸\n"
     ]
    }
   ],
   "source": [
    "from googletrans import Translator\n",
    "from lxml import etree, html\n",
    "import requests\n",
    "\n",
    "page = requests.get('https://www.gotokeep.com/plans/563b33a9bab30bf333565dc5')\n",
    "tree = html.fromstring(page.content)\n",
    "#exercise1\n",
    "exercise_hrefs = tree.xpath('/html/body/div[2]/div[1]/div[2]/div[2]/div/a/@href')\n",
    "\n",
    "for href in exercise_hrefs:\n",
    "    print(\"----------------------------------------------------------------------------\")\n",
    "    page = requests.get('https://www.gotokeep.com' + href)\n",
    "    tree = html.fromstring(page.content)\n",
    "    #begin fetch data\n",
    "    mainImage = tree.xpath('/html/body/div[2]/div/div[2]/div/@style')[0][22:-2] \n",
    "    name = tree.xpath('/html/body/div[2]/div/div[3]/h2/text()')[0] \n",
    "    steps = tree.xpath('//ul[1]/li/text()')\n",
    "    breathes = tree.xpath('//ul[2]/li/text()')\n",
    "    movementfeelings = tree.xpath('//ul[3]/li/text()')\n",
    "    movementfeelingPics = tree.xpath('//p/img/@src')\n",
    "    commonmistakes = tree.xpath('//ul[4]/li/text()')\n",
    "    video = tree.xpath('//div[@class=\"video-wrapper square-wrapper\"]/@data-src')[0]\n",
    "    \n",
    "\n"
   ]
  },
  {
   "cell_type": "code",
   "execution_count": null,
   "metadata": {},
   "outputs": [],
   "source": []
  },
  {
   "cell_type": "code",
   "execution_count": null,
   "metadata": {},
   "outputs": [],
   "source": []
  }
 ],
 "metadata": {
  "kernelspec": {
   "display_name": "Python 3",
   "language": "python",
   "name": "python3"
  },
  "language_info": {
   "codemirror_mode": {
    "name": "ipython",
    "version": 3
   },
   "file_extension": ".py",
   "mimetype": "text/x-python",
   "name": "python",
   "nbconvert_exporter": "python",
   "pygments_lexer": "ipython3",
   "version": "3.7.6"
  }
 },
 "nbformat": 4,
 "nbformat_minor": 4
}
