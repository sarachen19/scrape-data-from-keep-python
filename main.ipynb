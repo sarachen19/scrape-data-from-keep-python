{
 "cells": [
  {
   "cell_type": "markdown",
   "metadata": {},
   "source": [
    "# change courseNo and url each time"
   ]
  },
  {
   "cell_type": "code",
   "execution_count": 9,
   "metadata": {},
   "outputs": [],
   "source": [
    "no = 2\n",
    "url = 'https://www.gotokeep.com/plans/570cc63e251678ecaca61891'\n",
    "courseNo = \"course\" + str(no)"
   ]
  },
  {
   "cell_type": "markdown",
   "metadata": {},
   "source": [
    "# fetch data from url\n",
    "## run only once"
   ]
  },
  {
   "cell_type": "code",
   "execution_count": 10,
   "metadata": {
    "scrolled": true
   },
   "outputs": [
    {
     "name": "stdout",
     "output_type": "stream",
     "text": [
      "begin fetching course2\n",
      "begin fetching exercise0\n",
      "begin fetching exercise1\n",
      "begin fetching exercise2\n",
      "begin fetching exercise3\n",
      "begin fetching exercise4\n",
      "begin fetching exercise5\n",
      "begin fetching exercise6\n",
      "begin fetching exercise7\n",
      "begin fetching exercise8\n",
      "begin fetching exercise9\n",
      "begin fetching exercise10\n",
      "begin fetching exercise11\n",
      "begin fetching exercise12\n",
      "begin fetching exercise13\n",
      "begin fetching exercise14\n",
      "begin fetching exercise15\n",
      "begin fetching exercise16\n",
      "begin fetching exercise17\n",
      "begin fetching exercise18\n",
      "begin fetching exercise19\n",
      "{'meta': {'id': 2, 'title': '核心功能入门', 'detail': '核心强弱不仅仅决定腹肌形态，更决定你的运动能力。核心区域上到膈肌，下到盆底肌，包括腹横肌、多裂肌，以及外部的腹直肌、腹内外斜肌等等，由于没有骨骼的直接支撑，一直都是我们人体最容易薄弱的区域。在真实的运动中，我们的核心区域主要的任务是不发生形变，保持稳定的支撑，为我们的运动提供一个中心支点，所以，一般的腹肌训练只是在训练肌肉，而不是具有功能性的核心训练，让我们在这个课程中，一起体会核心发力的感觉', 'image': 'https://static1.gotokeep.com/picture/frame/1500627140082.jpg', 'ctype': 'K1'}, 'exercises': {0: {'image': 'https://static1.gotokeep.com/picture/frame/1500866394531.jpg', 'name': '猫式伸展', 'steps': [(0, '俯撑在瑜伽垫上，双手双膝着地'), (1, '拱起上背部，低头'), (2, '胸部下沉到最低，仰头'), (3, '全身放松')], 'breathes': [(0, '拱起背部时呼气，塌腰时吸气')], 'movementfeelings': [(0, '拱起时整条脊柱向前弯曲到产生一定挤压感，同时背部有较强牵拉感'), (1, '塌落时整条脊柱向后伸展到腹部有较强牵拉感')], 'movementfeelingPics': [(0, 'http://static1.keepcdn.com/picture/exerciseimages/v2/55cc42d24a334c5f820adca7_female_front?v=202010250822'), (1, 'http://static1.keepcdn.com/picture/exerciseimages/v2/55cc42d24a334c5f820adca7_female_back?v=202010250822')], 'commonmistakes': [(0, '错误：动作过快'), (1, '解决：动作每个阶段都略作停顿')], 'video': 'https://static1.keepcdn.com/cms_static/video/2019/4/23/1555999254771_QjAyN0MwNDUlMjA=.mp4'}, 1: {'image': 'https://static1.gotokeep.com/picture/frame/1500626509026.jpg', 'name': '腹肌激活', 'steps': [(0, '平躺在瑜伽垫上，双脚并拢，屈膝抬腿的同时将臀部略微抬起，下背部用力贴紧地面'), (1, '绷紧身体，肩部略微离地，同时上下振动双手刺激腹肌收紧')], 'breathes': [(0, '全程保持均匀呼吸')], 'movementfeelings': [(0, '腹部始终紧绷，同时会逐渐产生灼烧感')], 'movementfeelingPics': [(0, 'http://static1.keepcdn.com/picture/exerciseimages/v2/55cc42ce73e1e03083bf7bfc_female_front?v=202010250822'), (1, 'http://static1.keepcdn.com/picture/exerciseimages/v2/55cc42ce73e1e03083bf7bfc_female_back?v=202010250822')], 'commonmistakes': [(0, '错误：用力伸头，导致颈部疼痛'), (1, '解决：下颚始终贴紧颈部，同时后缩颈部')], 'video': 'https://static1.keepcdn.com/chaos/0728/B036C054_main_s.mp4'}, 2: {'image': 'https://static1.gotokeep.com/picture/frame/1500865095385.jpg', 'name': '臀桥', 'steps': [(0, '仰卧在瑜伽垫上，双腿屈曲略宽于肩，脚跟踩地'), (1, '发力将臀部抬起至大腿与身体呈一条直线，臀部抬起时上背部支撑地面'), (2, '下落时下背部贴地，但臀部悬空')], 'breathes': [(0, '臀部抬起时呼气，臀部下落吸气')], 'movementfeelings': [(0, '感受臀部慢慢离开瑜伽垫'), (1, '到顶部后，臀部有强烈的收缩挤压感')], 'movementfeelingPics': [(0, 'http://static1.keepcdn.com/picture/exerciseimages/v2/55cc42cd5f9bd587372f64c9_female_front?v=202010250822'), (1, 'http://static1.keepcdn.com/picture/exerciseimages/v2/55cc42cd5f9bd587372f64c9_female_back?v=202010250822')], 'commonmistakes': [(0, '错误：过度挺腰，导致腰部发力感觉明显'), (1, '解决：臀部抬起时，控制身体沿下背至中背部慢慢离开地面')], 'video': 'https://static1.keepcdn.com/chaos/0728/B028C034_main_s.mp4'}, 3: {'image': 'https://static1.gotokeep.com/picture/frame/1502965186753.jpg', 'name': '静态臀桥', 'steps': [(0, '仰卧在瑜伽垫上，双腿屈曲，脚跟踩地'), (1, '发力将臀部抬起至大腿与身体呈一条直线，臀部抬起时上背部支撑地面，保持住')], 'breathes': [(0, '全程保持均匀呼吸')], 'movementfeelings': [(0, '臀部有强烈的收缩挤压感')], 'movementfeelingPics': [(0, 'http://static1.keepcdn.com/picture/exerciseimages/v2/55cc42ca1b6c4d2d7e7860cc_female_front?v=202010250822'), (1, 'http://static1.keepcdn.com/picture/exerciseimages/v2/55cc42ca1b6c4d2d7e7860cc_female_back?v=202010250822')], 'commonmistakes': [(0, '错误：过度挺腰，导致腰部发力感觉明显'), (1, '解决：练习腹部下沉臀部上挺的发力模式')], 'video': 'https://static1.keepcdn.com/chaos/0816/B028C046_s.mp4'}, 4: {'image': 'https://static1.gotokeep.com/picture/frame/1501125368510.jpg', 'name': '简易死虫式', 'steps': [(0, '躺于垫上，手臂伸直举起，与地面呈90°，屈膝抬腿，大腿与地面呈90°'), (1, '臀下部微微离地，让腰部压紧地面，异侧手臂和腿分别下放至与地面呈30°'), (2, '下放时腰部始终保持贴地'), (3, '保持身体平衡，不要晃动')], 'breathes': [(0, '下放时吸气，还原时呼气')], 'movementfeelings': [(0, '手脚下落时，腹部出现紧绷感，幅度越大紧绷越强'), (1, '腰部始终是放松的，不应出现紧绷疼痛感')], 'movementfeelingPics': [(0, 'http://static1.keepcdn.com/picture/exerciseimages/v2/55cc42fcb312f5f484e89ad1_female_front?v=202010250823'), (1, 'http://static1.keepcdn.com/picture/exerciseimages/v2/55cc42fcb312f5f484e89ad1_female_back?v=202010250823')], 'commonmistakes': [(0, '错误：伸直腿时腰部离地，导致疼痛'), (1, '解决：控制腿下落的幅度，不必下的过低，腹部有感觉即可')], 'video': 'https://static1.keepcdn.com/chaos/0728/A031C041_main_s.mp4'}, 5: {'image': 'https://static1.gotokeep.com/picture/frame/1501214771014.jpg', 'name': '四点支撑', 'steps': [(0, '双手撑地，前脚掌着地，身体与大腿夹角呈90°，膝关节夹角呈90°'), (1, '膝盖悬空，收紧腹部，保持背部平直')], 'breathes': [(0, '自然呼吸')], 'movementfeelings': [(0, '整个腹部有强烈的收缩紧绷感')], 'movementfeelingPics': [(0, 'http://static1.keepcdn.com/picture/exerciseimages/v2/56038745331e338262f3d2ab_female_front?v=202010250823'), (1, 'http://static1.keepcdn.com/picture/exerciseimages/v2/56038745331e338262f3d2ab_female_back?v=202010250823')], 'commonmistakes': [(0, '错误：弯腰弓背，膝盖着地'), (1, '解决：收紧腹部，保持背部平直，膝盖保持离地')], 'video': 'https://static1.keepcdn.com/chaos/0728/A031C066_main_s.mp4'}, 6: {'image': 'https://static1.gotokeep.com/picture/frame/1500978292272.jpg', 'name': '右侧屈膝侧支撑', 'steps': [(0, '身体侧对地面，不能前后倾倒，右臂屈臂，小臂撑地，左臂向上伸直'), (1, '双腿曲膝，右小腿外侧着地，绷紧侧腹部，从头到膝盖呈一条直线')], 'breathes': [(0, '全程保持均匀呼吸')], 'movementfeelings': [(0, '整个过程全身有紧绷感，并且右侧腹部的紧绷感最强烈')], 'movementfeelingPics': [(0, 'http://static1.keepcdn.com/picture/exerciseimages/v2/56c2975f11fc5071b04c0c6e_female_front?v=202010250823'), (1, 'http://static1.keepcdn.com/picture/exerciseimages/v2/56c2975f11fc5071b04c0c6e_female_back?v=202010250823')], 'commonmistakes': [(0, '错误：腰部下榻'), (1, '解决：收紧腹部，保证身体成一条直线')], 'video': 'https://static1.keepcdn.com/chaos/0728/B049C096_main_s.mp4'}, 7: {'image': 'https://static1.gotokeep.com/picture/frame/1501223662687.jpg', 'name': '左侧屈膝侧支撑', 'steps': [(0, '身体侧对地面，不能前后倾倒，左臂屈臂，小臂撑地，右臂向上伸直'), (1, '双腿曲膝，左小腿外侧着地，绷紧侧腹部，从头到膝盖呈一条直线')], 'breathes': [(0, '全程保持均匀呼吸')], 'movementfeelings': [(0, '整个过程全身有紧绷感，并且左侧腹部的紧绷感最强烈')], 'movementfeelingPics': [(0, 'http://static1.keepcdn.com/picture/exerciseimages/v2/56c2dbae8b85a45ea061b2b9_female_front?v=202010250823'), (1, 'http://static1.keepcdn.com/picture/exerciseimages/v2/56c2dbae8b85a45ea061b2b9_female_back?v=202010250823')], 'commonmistakes': [(0, '错误：腰部下榻'), (1, '解决：收紧腹部，保证身体成一条直线')], 'video': 'https://static1.keepcdn.com/chaos/0728/B049C097_main_s.mp4'}, 8: {'image': 'https://static1.gotokeep.com/picture/frame/1500881848788.jpg', 'name': '平板支撑', 'steps': [(0, '屈肘，小臂与前脚掌撑地，耳、肩、髋、膝、踝呈一条直线'), (1, '手肘朝脚的方向用力， 脚尖用力向前勾起，与地面摩擦力对抗，小臂按紧地面')], 'breathes': [(0, '自然呼吸')], 'movementfeelings': [(0, '肩部、背部、臀部、整个腹部都应该有紧绷感，其中腹部最强烈')], 'movementfeelingPics': [(0, 'http://static1.keepcdn.com/picture/exerciseimages/v2/5979b7a011fc50363ca2e203_female_front?v=202010250823'), (1, 'http://static1.keepcdn.com/picture/exerciseimages/v2/5979b7a011fc50363ca2e203_female_back?v=202010250823')], 'commonmistakes': [(0, '错误：腹肌力竭后仍继续坚持，导致腰部酸疼'), (1, '解决：腹肌力竭后即可休息，不必硬撑')], 'video': 'https://static1.keepcdn.com/chaos/0728/A031C068_main_s.mp4'}, 9: {'image': 'https://static1.gotokeep.com/picture/frame/1500865095385.jpg', 'name': '臀桥', 'steps': [(0, '仰卧在瑜伽垫上，双腿屈曲略宽于肩，脚跟踩地'), (1, '发力将臀部抬起至大腿与身体呈一条直线，臀部抬起时上背部支撑地面'), (2, '下落时下背部贴地，但臀部悬空')], 'breathes': [(0, '臀部抬起时呼气，臀部下落吸气')], 'movementfeelings': [(0, '感受臀部慢慢离开瑜伽垫'), (1, '到顶部后，臀部有强烈的收缩挤压感')], 'movementfeelingPics': [(0, 'http://static1.keepcdn.com/picture/exerciseimages/v2/55cc42cd5f9bd587372f64c9_female_front?v=202010250823'), (1, 'http://static1.keepcdn.com/picture/exerciseimages/v2/55cc42cd5f9bd587372f64c9_female_back?v=202010250823')], 'commonmistakes': [(0, '错误：过度挺腰，导致腰部发力感觉明显'), (1, '解决：臀部抬起时，控制身体沿下背至中背部慢慢离开地面')], 'video': 'https://static1.keepcdn.com/chaos/0728/B028C034_main_s.mp4'}, 10: {'image': 'https://static1.gotokeep.com/picture/frame/1502965186753.jpg', 'name': '静态臀桥', 'steps': [(0, '仰卧在瑜伽垫上，双腿屈曲，脚跟踩地'), (1, '发力将臀部抬起至大腿与身体呈一条直线，臀部抬起时上背部支撑地面，保持住')], 'breathes': [(0, '全程保持均匀呼吸')], 'movementfeelings': [(0, '臀部有强烈的收缩挤压感')], 'movementfeelingPics': [(0, 'http://static1.keepcdn.com/picture/exerciseimages/v2/55cc42ca1b6c4d2d7e7860cc_female_front?v=202010250823'), (1, 'http://static1.keepcdn.com/picture/exerciseimages/v2/55cc42ca1b6c4d2d7e7860cc_female_back?v=202010250823')], 'commonmistakes': [(0, '错误：过度挺腰，导致腰部发力感觉明显'), (1, '解决：练习腹部下沉臀部上挺的发力模式')], 'video': 'https://static1.keepcdn.com/chaos/0816/B028C046_s.mp4'}, 11: {'image': 'https://static1.gotokeep.com/picture/frame/1501148140578.jpg', 'name': '跪姿平板支撑转体', 'steps': [(0, '跪姿平板支撑，双肘双膝着地'), (1, '腹部、肩部同时发力转体，身体转到侧面时，支撑地面的手臂一侧绷紧肩部，用力将身体撑高保持一段时间；然后回到起始状态，做另一侧的转体')], 'breathes': [(0, '保持均匀呼吸，不要憋气')], 'movementfeelings': [(0, '核心部位收紧')], 'movementfeelingPics': [(0, 'http://static1.keepcdn.com/picture/exerciseimages/v2/58a2e4bb7dff87007c48842d_female_front?v=202010250823'), (1, 'http://static1.keepcdn.com/picture/exerciseimages/v2/58a2e4bb7dff87007c48842d_female_back?v=202010250823')], 'commonmistakes': [(0, '错误：转体过程腹部有多余旋转'), (1, '解决：腹部收紧')], 'video': 'https://static1.keepcdn.com/chaos/0728/B066C055_main_s.mp4'}, 12: {'image': 'https://static1.gotokeep.com/picture/frame/1500881848788.jpg', 'name': '平板支撑', 'steps': [(0, '屈肘，小臂与前脚掌撑地，耳、肩、髋、膝、踝呈一条直线'), (1, '手肘朝脚的方向用力， 脚尖用力向前勾起，与地面摩擦力对抗，小臂按紧地面')], 'breathes': [(0, '自然呼吸')], 'movementfeelings': [(0, '肩部、背部、臀部、整个腹部都应该有紧绷感，其中腹部最强烈')], 'movementfeelingPics': [(0, 'http://static1.keepcdn.com/picture/exerciseimages/v2/55cc42d9fdac76af7fc278a9_female_front?v=202010250823'), (1, 'http://static1.keepcdn.com/picture/exerciseimages/v2/55cc42d9fdac76af7fc278a9_female_back?v=202010250823')], 'commonmistakes': [(0, '错误：腹肌力竭后仍继续坚持，导致腰部酸疼'), (1, '解决：腹肌力竭后即可休息，不必硬撑')], 'video': 'https://static1.keepcdn.com/chaos/0728/A031C068_main_s.mp4'}, 13: {'image': 'https://static1.gotokeep.com/picture/frame/1500978292272.jpg', 'name': '右侧屈膝侧支撑', 'steps': [(0, '身体侧对地面，不能前后倾倒，右臂屈臂，小臂撑地，左臂向上伸直'), (1, '双腿曲膝，右小腿外侧着地，绷紧侧腹部，从头到膝盖呈一条直线')], 'breathes': [(0, '全程保持均匀呼吸')], 'movementfeelings': [(0, '整个过程全身有紧绷感，并且右侧腹部的紧绷感最强烈')], 'movementfeelingPics': [(0, 'http://static1.keepcdn.com/picture/exerciseimages/v2/56c2975f11fc5071b04c0c6e_female_front?v=202010250823'), (1, 'http://static1.keepcdn.com/picture/exerciseimages/v2/56c2975f11fc5071b04c0c6e_female_back?v=202010250823')], 'commonmistakes': [(0, '错误：腰部下榻'), (1, '解决：收紧腹部，保证身体成一条直线')], 'video': 'https://static1.keepcdn.com/chaos/0728/B049C096_main_s.mp4'}, 14: {'image': 'https://static1.gotokeep.com/picture/frame/1501223662687.jpg', 'name': '左侧屈膝侧支撑', 'steps': [(0, '身体侧对地面，不能前后倾倒，左臂屈臂，小臂撑地，右臂向上伸直'), (1, '双腿曲膝，左小腿外侧着地，绷紧侧腹部，从头到膝盖呈一条直线')], 'breathes': [(0, '全程保持均匀呼吸')], 'movementfeelings': [(0, '整个过程全身有紧绷感，并且左侧腹部的紧绷感最强烈')], 'movementfeelingPics': [(0, 'http://static1.keepcdn.com/picture/exerciseimages/v2/56c2dbae8b85a45ea061b2b9_female_front?v=202010250823'), (1, 'http://static1.keepcdn.com/picture/exerciseimages/v2/56c2dbae8b85a45ea061b2b9_female_back?v=202010250823')], 'commonmistakes': [(0, '错误：腰部下榻'), (1, '解决：收紧腹部，保证身体成一条直线')], 'video': 'https://static1.keepcdn.com/chaos/0728/B049C097_main_s.mp4'}, 15: {'image': 'https://static1.gotokeep.com/picture/frame/1500881848788.jpg', 'name': '平板支撑', 'steps': [(0, '屈肘，小臂与前脚掌撑地，耳、肩、髋、膝、踝呈一条直线'), (1, '手肘朝脚的方向用力， 脚尖用力向前勾起，与地面摩擦力对抗，小臂按紧地面')], 'breathes': [(0, '自然呼吸')], 'movementfeelings': [(0, '肩部、背部、臀部、整个腹部都应该有紧绷感，其中腹部最强烈')], 'movementfeelingPics': [(0, 'http://static1.keepcdn.com/picture/exerciseimages/v2/5979b7a011fc50363ca2e203_female_front?v=202010250823'), (1, 'http://static1.keepcdn.com/picture/exerciseimages/v2/5979b7a011fc50363ca2e203_female_back?v=202010250823')], 'commonmistakes': [(0, '错误：腹肌力竭后仍继续坚持，导致腰部酸疼'), (1, '解决：腹肌力竭后即可休息，不必硬撑')], 'video': 'https://static1.keepcdn.com/chaos/0728/A031C068_main_s.mp4'}, 16: {'image': 'https://static1.gotokeep.com/picture/frame/1500626101377.jpg', 'name': '腹部拉伸', 'steps': [(0, '俯卧在瑜伽垫上，腿部完全贴紧地面，双手将上半身撑起，用力拉伸腹部'), (1, '挺胸')], 'breathes': [(0, '全程保持均匀呼吸')], 'movementfeelings': [(0, '整个腹部有牵拉感')], 'movementfeelingPics': [(0, 'http://static1.keepcdn.com/picture/exerciseimages/v2/55cc42cd949f9dc87ff96725_female_front?v=202010250823'), (1, 'http://static1.keepcdn.com/picture/exerciseimages/v2/55cc42cd949f9dc87ff96725_female_back?v=202010250823')], 'commonmistakes': [(0, '错误：腹部牵拉感不明显'), (1, '解决：深呼吸')], 'video': 'https://static1.keepcdn.com/chaos/0728/B027C050_main_s.mp4'}, 17: {'image': 'https://static1.gotokeep.com/picture/frame/1500627371540.jpg', 'name': '跪姿背部拉伸', 'steps': [(0, '身体自然而放松地向前趴下； 臀部坐在脚后跟上，手臂向前延伸')], 'breathes': [(0, '自然呼吸')], 'movementfeelings': [(0, '腰背部有牵拉感\\u2028')], 'movementfeelingPics': [(0, 'http://static1.keepcdn.com/picture/exerciseimages/v2/55cc42cf6d2493fc7cd7b256_female_front?v=202010250823'), (1, 'http://static1.keepcdn.com/picture/exerciseimages/v2/55cc42cf6d2493fc7cd7b256_female_back?v=202010250823')], 'commonmistakes': [(0, '问题：下腰背太紧，导致臀部无法坐在脚后跟上'), (1, '解决：在臀部和脚跟之间垫毛巾或者书籍')], 'video': 'https://static1.keepcdn.com/chaos/0728/B027C035_main_s.mp4'}, 18: {'image': 'https://static1.gotokeep.com/picture/frame/1500625548860.jpg', 'name': '站姿左侧腹部拉伸', 'steps': [(0, '身体直立，向右侧伸展，感受腹部左侧的拉伸感')], 'breathes': [(0, '全程保持均匀呼吸')], 'movementfeelings': [(0, '腹部左侧肋骨至骨盆处，有牵拉感')], 'movementfeelingPics': [(0, 'http://static1.keepcdn.com/picture/exerciseimages/v2/55cc42cd6d2493fc7cd7b253_female_front?v=202010250823'), (1, 'http://static1.keepcdn.com/picture/exerciseimages/v2/55cc42cd6d2493fc7cd7b253_female_back?v=202010250823')], 'commonmistakes': [(0, '错误：左右摇晃，无法站稳'), (1, '解决：双腿交叉幅度再大一些')], 'video': 'https://static1.keepcdn.com/chaos/0728/B035C062_main_s.mp4'}, 19: {'image': 'https://static1.gotokeep.com/picture/frame/1500627140082.jpg', 'name': '站姿右侧腹部拉伸', 'steps': [(0, '身体直立，向左侧伸展，感受腹部右侧的拉伸感')], 'breathes': [(0, '全程保持均匀呼吸')], 'movementfeelings': [(0, '腹部右侧肋骨至骨盆处，有牵拉感')], 'movementfeelingPics': [(0, 'http://static1.keepcdn.com/picture/exerciseimages/v2/55cc42ce949f9dc87ff96728_female_front?v=202010250823'), (1, 'http://static1.keepcdn.com/picture/exerciseimages/v2/55cc42ce949f9dc87ff96728_female_back?v=202010250823')], 'commonmistakes': [(0, '错误：左右摇晃，无法站稳'), (1, '解决：双腿交叉幅度再大一些')], 'video': 'https://static1.keepcdn.com/chaos/0728/B035C061_main_s.mp4'}}}\n"
     ]
    }
   ],
   "source": [
    "from lxml import etree, html\n",
    "import requests\n",
    "\n",
    "page = requests.get(url)\n",
    "tree = html.fromstring(page.content)\n",
    "#fetch data for current course\n",
    "print (\"begin fetching course\" + str(no))\n",
    "course = {}\n",
    "id = no\n",
    "title = tree.xpath('/html/body/div[2]/div[1]/div[1]/div[1]/div/text()')[0]\n",
    "detail = tree.xpath('/html/body/div[2]/div[1]/div[1]/div[1]/p[1]/text()')[0]\n",
    "image = tree.xpath('/html/body/div[2]/div[1]/div[1]/@style')[0][21:-1]\n",
    "ctype = tree.xpath('/html/body/div[2]/div[1]/div[1]/div[1]/p[3]/span/text()')[0]\n",
    "#fetch data for all exercises\n",
    "exercises = {}\n",
    "exercise_hrefs = tree.xpath('/html/body/div[2]/div[1]/div[2]/div[2]/div/a/@href')\n",
    "for i in range(len(exercise_hrefs)):\n",
    "    print (\"begin fetching exercise\" + str(i))\n",
    "    page = requests.get('https://www.gotokeep.com' + exercise_hrefs[i])\n",
    "    tree = html.fromstring(page.content)\n",
    "    #begin fetch data\n",
    "    image = tree.xpath('/html/body/div[2]/div/div[2]/div/@style')[0][22:-2] \n",
    "    name = tree.xpath('/html/body/div[2]/div/div[3]/h2/text()')[0] \n",
    "    steps = list(enumerate(tree.xpath('//ul[1]/li/text()')))\n",
    "    breathes = list(enumerate(tree.xpath('//ul[2]/li/text()')))\n",
    "    movementfeelings = list(enumerate(tree.xpath('//ul[3]/li/text()')))\n",
    "    movementfeelingPics = list(enumerate(tree.xpath('//p/img/@src')))\n",
    "    commonmistakes = list(enumerate(tree.xpath('//ul[4]/li/text()')))\n",
    "    video = tree.xpath('//div[@class=\"video-wrapper square-wrapper\"]/@data-src')[0]\n",
    "    #add data into exercise\n",
    "    exercise = {\"image\" : image, \"name\" : name, \"steps\" : steps\n",
    "              , \"breathes\" : breathes, \"movementfeelings\" : movementfeelings\n",
    "             , \"movementfeelingPics\" : movementfeelingPics, \"commonmistakes\" : commonmistakes\n",
    "             , \"video\" : video}\n",
    "    #add exercise into exercises\n",
    "    exercises[i] = exercise\n",
    "course = {\"meta\" : {\"id\" : id, \"title\" : title, \"detail\" : detail, \"image\" : image, \"ctype\" : ctype }, \"exercises\" : exercises}\n",
    "print(course)\n",
    "\n"
   ]
  },
  {
   "cell_type": "markdown",
   "metadata": {},
   "source": [
    "# download all videos and images to local\n",
    "## run only once"
   ]
  },
  {
   "cell_type": "code",
   "execution_count": 11,
   "metadata": {},
   "outputs": [],
   "source": [
    "import urllib.request\n",
    "import os\n",
    "\n",
    "if not os.path.exists(\"./videos/course\" + str(no) + \"/\"):\n",
    "    os.makedirs(\"./videos/course\" + str(no) + \"/\")\n",
    "if not os.path.exists(\"./images/course\" + str(no) + \"/\"):\n",
    "    os.makedirs(\"./images/course\" + str(no) + \"/\")\n",
    "for index in range(len(exercises)):\n",
    "    video = exercises[index][\"video\"]\n",
    "    image = exercises[index][\"image\"]\n",
    "    path1 = \"./videos/course\" + str(no) + \"/\" + str(index) + \".mp4\"\n",
    "    path2 = \"./images/course\" + str(no) + \"/\" + str(index) + \".png\"\n",
    "    urllib.request.urlretrieve(video,path1)\n",
    "    urllib.request.urlretrieve(image,path2)"
   ]
  },
  {
   "cell_type": "markdown",
   "metadata": {},
   "source": [
    "# test google cloud connection and upload data(video and image)\n",
    "## run only once"
   ]
  },
  {
   "cell_type": "code",
   "execution_count": null,
   "metadata": {},
   "outputs": [],
   "source": [
    "from google.cloud import storage\n",
    "\n",
    "def upload_blob(bucket_name, source_file_name, destination_blob_name):\n",
    "    \"\"\"Uploads a file to the bucket.\"\"\"\n",
    "    # bucket_name = \"your-bucket-name\"\n",
    "    # source_file_name = \"local/path/to/file\"\n",
    "    # destination_blob_name = \"storage-object-name\"\n",
    "    storage_client = storage.Client()\n",
    "    bucket = storage_client.bucket(bucket_name)\n",
    "    blob = bucket.blob(destination_blob_name)\n",
    "    blob.upload_from_filename(source_file_name)\n",
    "    print(\n",
    "        \"File {} uploaded to {}.\".format(\n",
    "            source_file_name, destination_blob_name\n",
    "        )\n",
    "    )\n",
    "    "
   ]
  },
  {
   "cell_type": "code",
   "execution_count": null,
   "metadata": {
    "scrolled": true
   },
   "outputs": [],
   "source": [
    "from google.cloud import storage\n",
    "import os\n",
    "#set environment variavle for authentification\n",
    "os.environ[\"GOOGLE_APPLICATION_CREDENTIALS\"]=\"/Users/cxr72/Documents/Python Scripts/Quickstart-03dd286a74fc.json\"\n",
    "\n",
    "storage_client = storage.Client()\n",
    "buckets = list(storage_client.list_buckets())\n",
    "print(buckets)\n",
    "\n",
    "for i in range(len(exercises)):\n",
    "    videoPath = \"./videos/\" + str(i) + \".mp4\"\n",
    "    videoBlobName = courseNo + \"/videos/\" + str(i) + \".mp4\"\n",
    "    imagePath = \"./images/\" + str(i) + \".png\"\n",
    "    imageBlobName = courseNo + \"/images/\" + str(i) + \".png\"\n",
    "    upload_blob(\"quickstart-1592333099507.appspot.com\",videoPath, videoBlobName)\n",
    "    upload_blob(\"quickstart-1592333099507.appspot.com\",imagePath, imageBlobName)\n",
    "    "
   ]
  },
  {
   "cell_type": "markdown",
   "metadata": {},
   "source": [
    "# update exercises using url from cloud"
   ]
  },
  {
   "cell_type": "code",
   "execution_count": 14,
   "metadata": {},
   "outputs": [
    {
     "name": "stdout",
     "output_type": "stream",
     "text": [
      "{'meta': {'id': 1, 'title': '瘦腿训练', 'detail': '女神必备，「瘦腿」修炼秘籍！本课程进行了为期 4 周的效果测试，一共 183 人参加。4 周后瘦腿成功率高达 69.7%，平均每人瘦了 2.19cm，相当于牛仔裤小了 2 个码，效果显著。如果配合减脂训练、饮食控制，还能让瘦腿效果更明显。', 'image': 'https://static1.gotokeep.com/picture/frame/1501207648307.jpg', 'ctype': 'K2'}, 'exercises': {0: {'image': 'gs://quickstart-1592333099507.appspot.com/course1/images/0.png', 'name': '侧卧左侧提膝', 'steps': [(0, '侧卧在瑜伽垫上，左腿伸直，微微抬起'), (1, '臀部外侧发力提膝，提膝时大腿尽可能贴近腹部'), (2, '提膝至最高点后膝盖轻点地，然后回到起始状态')], 'breathes': [(0, '提膝时呼气，还原时吸气')], 'movementfeelings': [(0, '臀部外侧有明显收缩感')], 'movementfeelingPics': [(0, 'http://static1.keepcdn.com/picture/exerciseimages/v2/55cc42f6ce780bdc3fc33b48_female_front?v=202010230952'), (1, 'http://static1.keepcdn.com/picture/exerciseimages/v2/55cc42f6ce780bdc3fc33b48_female_back?v=202010230952')], 'commonmistakes': [(0, '错误：提膝时膝盖触地'), (1, '解决：左腿全程悬空')], 'video': 'gs://quickstart-1592333099507.appspot.com/course1/videos/0.mp4'}, 1: {'image': 'gs://quickstart-1592333099507.appspot.com/course1/images/1.png', 'name': '侧卧左侧前抬腿', 'steps': [(0, '侧卧在瑜伽垫上，左侧大腿垂直身体，脚尖略朝下'), (1, '臀部外侧发力抬起左腿'), (2, '抬腿时大腿向胯的方向缩，而不是向远处伸')], 'breathes': [(0, '抬腿时呼气，下放时吸气')], 'movementfeelings': [(0, '臀部外侧有收缩感')], 'movementfeelingPics': [(0, 'http://static1.keepcdn.com/picture/exerciseimages/v2/55cc42f60f11ec78824999f1_female_front?v=202010230952'), (1, 'http://static1.keepcdn.com/picture/exerciseimages/v2/55cc42f60f11ec78824999f1_female_back?v=202010230952')], 'commonmistakes': [(0, '错误：大腿抬得过高'), (1, '解决：抬起的高度比身体略高一点')], 'video': 'gs://quickstart-1592333099507.appspot.com/course1/videos/1.mp4'}, 2: {'image': 'gs://quickstart-1592333099507.appspot.com/course1/images/2.png', 'name': '侧卧左侧抬腿', 'steps': [(0, '侧卧在瑜伽垫上，左腿伸直，微微抬起，脚尖朝下'), (1, '臀部外侧发力将左腿抬至最高点'), (2, '抬腿时大腿向胯的方向缩，而不是向远处伸')], 'breathes': [(0, '抬腿时呼气，下放时吸气')], 'movementfeelings': [(0, '臀部外侧有明显挤压感')], 'movementfeelingPics': [(0, 'http://static1.keepcdn.com/picture/exerciseimages/v2/55cc42f61b6c4d2d7e7860e4_female_front?v=202010230952'), (1, 'http://static1.keepcdn.com/picture/exerciseimages/v2/55cc42f61b6c4d2d7e7860e4_female_back?v=202010230952')], 'commonmistakes': [(0, '错误：动作过快'), (1, '解决：减缓动作速度，感受臀部外侧的发力')], 'video': 'gs://quickstart-1592333099507.appspot.com/course1/videos/2.mp4'}, 3: {'image': 'gs://quickstart-1592333099507.appspot.com/course1/images/3.png', 'name': '侧卧左侧后踢腿', 'steps': [(0, '侧卧在瑜伽垫上，左侧大腿垂直身体，膝盖屈曲90°角'), (1, '左腿尽力向后方上侧伸展直到伸直，踢腿的同时收腹')], 'breathes': [(0, '收腿时吸气，伸展时呼气')], 'movementfeelings': [(0, '臀部外侧有明显的收缩感')], 'movementfeelingPics': [(0, 'http://static1.keepcdn.com/picture/exerciseimages/v2/55cc42f573e1e03083bf7c11_female_front?v=202010230952'), (1, 'http://static1.keepcdn.com/picture/exerciseimages/v2/55cc42f573e1e03083bf7c11_female_back?v=202010230952')], 'commonmistakes': [(0, '错误：动作过程中身体摇晃'), (1, '解决：除了摆动的腿外，身体保持固定')], 'video': 'gs://quickstart-1592333099507.appspot.com/course1/videos/3.mp4'}, 4: {'image': 'gs://quickstart-1592333099507.appspot.com/course1/images/4.png', 'name': '左腿翘曲两头起', 'steps': [(0, '躺在垫上，右腿屈膝，左腿脚踝放于右腿大腿前侧，双手放在头两侧'), (1, '卷腹时抬腿，臀部与肩部同时离地'), (2, '手肘不要朝前用力掰')], 'breathes': [(0, '下落时吸气，卷腹时呼气')], 'movementfeelings': [(0, '双腿全程是放松状态'), (1, '卷起时，腹部有明显收缩挤压感，左侧感觉更强')], 'movementfeelingPics': [(0, 'http://static1.keepcdn.com/picture/exerciseimages/v2/563b2a94bab30bf333565d66_female_front?v=202010230952'), (1, 'http://static1.keepcdn.com/picture/exerciseimages/v2/563b2a94bab30bf333565d66_female_back?v=202010230952')], 'commonmistakes': [(0, '错误：臀部与肩部未同时离地'), (1, '解决：卷腹带同时抬腿')], 'video': 'gs://quickstart-1592333099507.appspot.com/course1/videos/4.mp4'}, 5: {'image': 'gs://quickstart-1592333099507.appspot.com/course1/images/5.png', 'name': '右腿翘曲两头起', 'steps': [(0, '躺在垫上，左腿屈膝，右腿脚踝放于左腿大腿前侧，双手放在头两侧'), (1, '卷腹时抬腿，臀部与肩部同时离地'), (2, '手肘不要朝前用力掰')], 'breathes': [(0, '下落时吸气，卷腹时呼气')], 'movementfeelings': [(0, '双腿全程是放松状态'), (1, '卷起时，腹部有明显收缩挤压感，右侧感觉更强')], 'movementfeelingPics': [(0, 'http://static1.keepcdn.com/picture/exerciseimages/v2/563b2aeebab30bf333565d6b_female_front?v=202010230952'), (1, 'http://static1.keepcdn.com/picture/exerciseimages/v2/563b2aeebab30bf333565d6b_female_back?v=202010230952')], 'commonmistakes': [(0, '错误：臀部与肩部未同时离地'), (1, '解决：卷腹带同时抬腿')], 'video': 'gs://quickstart-1592333099507.appspot.com/course1/videos/5.mp4'}, 6: {'image': 'gs://quickstart-1592333099507.appspot.com/course1/images/6.png', 'name': '单腿屈腿两头起', 'steps': [(0, '屈膝躺在垫上，手臂向上伸直'), (1, '提膝时小腿保持平行地面，另一侧腿不能离地'), (2, '卷腹起身时双手用力前伸')], 'breathes': [(0, '抬腿时呼气，下放时吸气')], 'movementfeelings': [(0, '发力时，腹部有强收缩感，抬腿侧更强'), (1, '腰部始终放松，不应有紧绷感')], 'movementfeelingPics': [(0, 'http://static1.keepcdn.com/picture/exerciseimages/v2/55cc42ef6d2493fc7cd7b261_female_front?v=202010230952'), (1, 'http://static1.keepcdn.com/picture/exerciseimages/v2/55cc42ef6d2493fc7cd7b261_female_back?v=202010230952')], 'commonmistakes': [(0, '错误：另一侧腿离地'), (1, '解决：保持另一侧腿稳定在垫上')], 'video': 'gs://quickstart-1592333099507.appspot.com/course1/videos/6.mp4'}, 7: {'image': 'gs://quickstart-1592333099507.appspot.com/course1/images/7.png', 'name': '侧卧右侧提膝', 'steps': [(0, '侧卧在瑜伽垫上，右腿伸直，微微抬起'), (1, '臀部外侧发力提膝，提膝时大腿尽可能贴近腹部'), (2, '提膝至最高点后膝盖轻点地，然后回到起始状态')], 'breathes': [(0, '提膝时呼气，还原时吸气')], 'movementfeelings': [(0, '臀部外侧有明显收缩感')], 'movementfeelingPics': [(0, 'http://static1.keepcdn.com/picture/exerciseimages/v2/55cc42f6b77ff62b81a9ac3f_female_front?v=202010230952'), (1, 'http://static1.keepcdn.com/picture/exerciseimages/v2/55cc42f6b77ff62b81a9ac3f_female_back?v=202010230952')], 'commonmistakes': [(0, '错误：提膝时膝盖触地'), (1, '解决：右腿全程悬空')], 'video': 'gs://quickstart-1592333099507.appspot.com/course1/videos/7.mp4'}, 8: {'image': 'gs://quickstart-1592333099507.appspot.com/course1/images/8.png', 'name': '侧卧右侧前抬腿', 'steps': [(0, '侧卧在瑜伽垫上，右侧大腿垂直身体，脚尖略朝下'), (1, '臀部外侧发力抬起右腿'), (2, '抬腿时大腿向胯的方向缩，而不是向远处伸')], 'breathes': [(0, '抬腿时呼气，下放时吸气')], 'movementfeelings': [(0, '臀部外侧有收缩感')], 'movementfeelingPics': [(0, 'http://static1.keepcdn.com/picture/exerciseimages/v2/55cc42f677b531a13b1ae042_female_front?v=202010230952'), (1, 'http://static1.keepcdn.com/picture/exerciseimages/v2/55cc42f677b531a13b1ae042_female_back?v=202010230952')], 'commonmistakes': [(0, '错误：大腿抬得过高'), (1, '解决：抬起的高度比身体略高一点')], 'video': 'gs://quickstart-1592333099507.appspot.com/course1/videos/8.mp4'}, 9: {'image': 'gs://quickstart-1592333099507.appspot.com/course1/images/9.png', 'name': '侧卧右侧抬腿', 'steps': [(0, '侧卧在瑜伽垫上，右腿伸直，微微抬起，脚尖朝下'), (1, '臀部外侧发力将右腿抬至最高点'), (2, '抬腿时大腿向胯的方向缩，而不是向远处伸')], 'breathes': [(0, '抬腿时呼气，下放时吸气')], 'movementfeelings': [(0, '臀部外侧有明显挤压感')], 'movementfeelingPics': [(0, 'http://static1.keepcdn.com/picture/exerciseimages/v2/55cc42f6c4dfd8497e1e55dc_female_front?v=202010230952'), (1, 'http://static1.keepcdn.com/picture/exerciseimages/v2/55cc42f6c4dfd8497e1e55dc_female_back?v=202010230952')], 'commonmistakes': [(0, '错误：动作过快'), (1, '解决：减缓动作速度，感受臀部外侧的发力')], 'video': 'gs://quickstart-1592333099507.appspot.com/course1/videos/9.mp4'}, 10: {'image': 'gs://quickstart-1592333099507.appspot.com/course1/images/10.png', 'name': '侧卧右侧后踢腿', 'steps': [(0, '侧卧在瑜伽垫上，右侧大腿垂直身体，膝盖屈曲90°角'), (1, '右腿尽力向后方上侧伸展直到伸直，踢腿的同时收腹')], 'breathes': [(0, '收腿时吸气，伸展时呼气')], 'movementfeelings': [(0, '臀部外侧有明显的收缩感')], 'movementfeelingPics': [(0, 'http://static1.keepcdn.com/picture/exerciseimages/v2/55cc42f50b47d3967fd51a17_female_front?v=202010230952'), (1, 'http://static1.keepcdn.com/picture/exerciseimages/v2/55cc42f50b47d3967fd51a17_female_back?v=202010230952')], 'commonmistakes': [(0, '错误：动作过程中身体摇晃'), (1, '解决：除了摆动的腿外，身体保持固定')], 'video': 'gs://quickstart-1592333099507.appspot.com/course1/videos/10.mp4'}, 11: {'image': 'gs://quickstart-1592333099507.appspot.com/course1/images/11.png', 'name': '坐姿扭转右侧臀部拉伸', 'steps': [(0, '坐在瑜伽垫上，左腿伸直，右腿弯曲跨过左腿，放在膝盖外侧'), (1, '左手肘搭住右膝盖，右手撑地保持平衡'), (2, '身体尽力向右侧扭转，保持住')], 'breathes': [(0, '全程保持均匀呼吸')], 'movementfeelings': [(0, '下背部与臀部会有拉伸感')], 'movementfeelingPics': [(0, 'http://static1.keepcdn.com/picture/exerciseimages/v2/595f4da8ff247f33e297ea7d_female_front?v=202010230952'), (1, 'http://static1.keepcdn.com/picture/exerciseimages/v2/595f4da8ff247f33e297ea7d_female_back?v=202010230952')], 'commonmistakes': [(0, '错误：上半身没有扭转，拉伸感不明显'), (1, '解决：将右脚离膝盖远一些，身体尽力向右侧扭转')], 'video': 'gs://quickstart-1592333099507.appspot.com/course1/videos/11.mp4'}, 12: {'image': 'gs://quickstart-1592333099507.appspot.com/course1/images/12.png', 'name': '坐姿扭转左侧臀部拉伸', 'steps': [(0, '坐在瑜伽垫上，右腿伸直，左腿弯曲跨过右腿，放在膝盖外侧'), (1, '右手肘搭住左膝盖，左手撑地保持平衡'), (2, '身体尽力向左侧扭转，保持住')], 'breathes': [(0, '全程保持均匀呼吸')], 'movementfeelings': [(0, '下背部与臀部会有拉伸感')], 'movementfeelingPics': [(0, 'http://static1.keepcdn.com/picture/exerciseimages/v2/595f4da9ff247f33e297ea7e_female_front?v=202010230952'), (1, 'http://static1.keepcdn.com/picture/exerciseimages/v2/595f4da9ff247f33e297ea7e_female_back?v=202010230952')], 'commonmistakes': [(0, '错误：拉伸感不明显'), (1, '解决：将左脚离膝盖远一些，身体尽力向左侧扭转')], 'video': 'gs://quickstart-1592333099507.appspot.com/course1/videos/12.mp4'}}}\n"
     ]
    }
   ],
   "source": [
    "for i in range(len(exercises)):\n",
    "    exercises[i][\"video\"] = \"gs://quickstart-1592333099507.appspot.com/\" + courseNo + \"/videos/\" + str(i) + \".mp4\"\n",
    "    exercises[i][\"image\"] = \"gs://quickstart-1592333099507.appspot.com/\" + courseNo + \"/images/\" + str(i) + \".png\"\n",
    "course[\"exercises\"] = exercises\n",
    "print(course)"
   ]
  },
  {
   "cell_type": "markdown",
   "metadata": {},
   "source": [
    "# export to csv and json "
   ]
  },
  {
   "cell_type": "code",
   "execution_count": 15,
   "metadata": {},
   "outputs": [
    {
     "data": {
      "text/plain": [
       "8900"
      ]
     },
     "execution_count": 15,
     "metadata": {},
     "output_type": "execute_result"
    }
   ],
   "source": [
    "import json\n",
    "\n",
    "target = json.dumps(course, ensure_ascii=False)\n",
    "file = open(\"course\" + str(no) + \".txt\", \"w+\", encoding='utf-8')\n",
    "file.write(target)\n"
   ]
  },
  {
   "cell_type": "code",
   "execution_count": null,
   "metadata": {},
   "outputs": [],
   "source": [
    "#test download\n",
    "from google.cloud import storage\n",
    "\n",
    "\n",
    "def download_blob(bucket_name, source_blob_name, destination_file_name):\n",
    "    \"\"\"Downloads a blob from the bucket.\"\"\"\n",
    "    # bucket_name = \"your-bucket-name\"\n",
    "    # source_blob_name = \"storage-object-name\"\n",
    "    # destination_file_name = \"local/path/to/file\"\n",
    "\n",
    "    storage_client = storage.Client()\n",
    "\n",
    "    bucket = storage_client.bucket(bucket_name)\n",
    "    blob = bucket.blob(source_blob_name)\n",
    "    blob.download_to_filename(destination_file_name)\n",
    "\n",
    "    print(\n",
    "        \"Blob {} downloaded to {}.\".format(\n",
    "            source_blob_name, destination_file_name\n",
    "        )\n",
    "    )\n",
    "download_blob(\"quickstart-1592333099507.appspot.com\",\"course1/images/0.png\",\"teset.png\")"
   ]
  },
  {
   "cell_type": "code",
   "execution_count": null,
   "metadata": {},
   "outputs": [],
   "source": []
  }
 ],
 "metadata": {
  "kernelspec": {
   "display_name": "Python 3",
   "language": "python",
   "name": "python3"
  },
  "language_info": {
   "codemirror_mode": {
    "name": "ipython",
    "version": 3
   },
   "file_extension": ".py",
   "mimetype": "text/x-python",
   "name": "python",
   "nbconvert_exporter": "python",
   "pygments_lexer": "ipython3",
   "version": "3.7.6"
  }
 },
 "nbformat": 4,
 "nbformat_minor": 4
}
